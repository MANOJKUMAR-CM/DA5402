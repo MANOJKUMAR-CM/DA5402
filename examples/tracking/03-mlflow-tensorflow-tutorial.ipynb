{
 "cells": [
  {
   "cell_type": "markdown",
   "id": "da5acf5e",
   "metadata": {
    "ExecuteTime": {
     "end_time": "2024-02-26T09:29:16.340146Z",
     "start_time": "2024-02-26T09:29:16.336042Z"
    }
   },
   "source": [
    "### https://mlflow.org/docs/latest/deep-learning/tensorflow/quickstart/quickstart_tensorflow.html"
   ]
  },
  {
   "cell_type": "markdown",
   "id": "227b3ad1",
   "metadata": {},
   "source": [
    "## install dependencies\n"
   ]
  },
  {
   "cell_type": "code",
   "execution_count": null,
   "id": "11d6a9fe",
   "metadata": {
    "ExecuteTime": {
     "end_time": "2024-11-19T16:50:34.026832Z",
     "start_time": "2024-11-19T16:50:33.116748Z"
    }
   },
   "outputs": [],
   "source": [
    "#!pip install -q mlflow"
   ]
  },
  {
   "cell_type": "code",
   "execution_count": null,
   "id": "fd8ceeb4",
   "metadata": {
    "ExecuteTime": {
     "end_time": "2024-11-19T16:55:08.726019Z",
     "start_time": "2024-11-19T16:55:08.602239Z"
    },
    "execution": {
     "iopub.execute_input": "2024-11-20T10:11:32.152970Z",
     "iopub.status.busy": "2024-11-20T10:11:32.152617Z",
     "iopub.status.idle": "2024-11-20T10:11:34.078991Z",
     "shell.execute_reply": "2024-11-20T10:11:34.078616Z",
     "shell.execute_reply.started": "2024-11-20T10:11:32.152935Z"
    }
   },
   "outputs": [],
   "source": [
    "# import the packages\n",
    "import numpy as np\n",
    "import tensorflow as tf\n",
    "import tensorflow_datasets as tfds\n",
    "\n",
    "from tensorflow import keras"
   ]
  },
  {
   "cell_type": "markdown",
   "id": "72140268",
   "metadata": {
    "ExecuteTime": {
     "end_time": "2024-02-26T09:31:05.265531Z",
     "start_time": "2024-02-26T09:31:05.261954Z"
    }
   },
   "source": [
    "### Load the MNIST dataset"
   ]
  },
  {
   "cell_type": "code",
   "execution_count": null,
   "id": "4bb2a78b",
   "metadata": {
    "ExecuteTime": {
     "end_time": "2024-11-19T16:55:10.143142Z",
     "start_time": "2024-11-19T16:55:09.773629Z"
    },
    "execution": {
     "iopub.execute_input": "2024-11-20T10:13:31.516116Z",
     "iopub.status.busy": "2024-11-20T10:13:31.515551Z",
     "iopub.status.idle": "2024-11-20T10:13:42.022664Z",
     "shell.execute_reply": "2024-11-20T10:13:42.021825Z",
     "shell.execute_reply.started": "2024-11-20T10:13:31.516080Z"
    }
   },
   "outputs": [],
   "source": [
    "# Load the mnist dataset.\n",
    "train_ds, test_ds = tfds.load(\n",
    "    \"mnist\",\n",
    "    split=[\"train\", \"test\"],\n",
    "    shuffle_files=True,\n",
    ")"
   ]
  },
  {
   "cell_type": "markdown",
   "id": "25b22383",
   "metadata": {},
   "source": [
    "##### Let’s preprocess our data with the following steps: - Scale each pixel’s value to [0, 1).\n",
    "##### Batch the dataset. \n",
    "##### Use prefetch to speed up the training."
   ]
  },
  {
   "cell_type": "code",
   "execution_count": null,
   "id": "0e3a7a0f",
   "metadata": {
    "ExecuteTime": {
     "end_time": "2024-11-19T16:55:11.459079Z",
     "start_time": "2024-11-19T16:55:11.422085Z"
    },
    "execution": {
     "iopub.execute_input": "2024-11-20T10:14:08.706918Z",
     "iopub.status.busy": "2024-11-20T10:14:08.706694Z",
     "iopub.status.idle": "2024-11-20T10:14:08.761964Z",
     "shell.execute_reply": "2024-11-20T10:14:08.761488Z",
     "shell.execute_reply.started": "2024-11-20T10:14:08.706899Z"
    }
   },
   "outputs": [],
   "source": [
    "def preprocess_fn(data):\n",
    "    image = tf.cast(data[\"image\"], tf.float32) / 255\n",
    "    label = data[\"label\"]\n",
    "    return (image, label)\n",
    "\n",
    "\n",
    "train_ds = train_ds.map(preprocess_fn).batch(128).prefetch(tf.data.AUTOTUNE)\n",
    "test_ds = test_ds.map(preprocess_fn).batch(128).prefetch(tf.data.AUTOTUNE)"
   ]
  },
  {
   "cell_type": "markdown",
   "id": "a091fff8",
   "metadata": {},
   "source": [
    "### Define the model"
   ]
  },
  {
   "cell_type": "code",
   "execution_count": null,
   "id": "9c7f63a2",
   "metadata": {
    "ExecuteTime": {
     "end_time": "2024-11-19T16:55:12.566566Z",
     "start_time": "2024-11-19T16:55:12.529951Z"
    },
    "execution": {
     "iopub.execute_input": "2024-11-20T10:14:12.909720Z",
     "iopub.status.busy": "2024-11-20T10:14:12.909390Z",
     "iopub.status.idle": "2024-11-20T10:14:13.519782Z",
     "shell.execute_reply": "2024-11-20T10:14:13.519166Z",
     "shell.execute_reply.started": "2024-11-20T10:14:12.909698Z"
    }
   },
   "outputs": [],
   "source": [
    "input_shape = (28, 28, 1)\n",
    "num_classes = 10\n",
    "\n",
    "model = keras.Sequential(\n",
    "    [\n",
    "        keras.Input(shape=input_shape),\n",
    "        keras.layers.Conv2D(32, kernel_size=(3, 3), activation=\"relu\"),\n",
    "        keras.layers.MaxPooling2D(pool_size=(2, 2)),\n",
    "        keras.layers.Conv2D(64, kernel_size=(3, 3), activation=\"relu\"),\n",
    "        keras.layers.MaxPooling2D(pool_size=(2, 2)),\n",
    "        keras.layers.Flatten(),\n",
    "        keras.layers.Dropout(0.5),\n",
    "        keras.layers.Dense(num_classes, activation=\"softmax\"),\n",
    "    ]\n",
    ")"
   ]
  },
  {
   "cell_type": "code",
   "execution_count": null,
   "id": "22c8a1da",
   "metadata": {
    "ExecuteTime": {
     "end_time": "2024-11-19T16:55:13.371405Z",
     "start_time": "2024-11-19T16:55:13.357998Z"
    },
    "execution": {
     "iopub.execute_input": "2024-11-20T10:14:23.843403Z",
     "iopub.status.busy": "2024-11-20T10:14:23.843258Z",
     "iopub.status.idle": "2024-11-20T10:14:23.856284Z",
     "shell.execute_reply": "2024-11-20T10:14:23.855955Z",
     "shell.execute_reply.started": "2024-11-20T10:14:23.843391Z"
    }
   },
   "outputs": [],
   "source": [
    "model.compile(\n",
    "    loss=keras.losses.SparseCategoricalCrossentropy(),\n",
    "    optimizer=keras.optimizers.Adam(0.001),\n",
    "    metrics=[keras.metrics.SparseCategoricalAccuracy()],\n",
    ")\n",
    "\n",
    "model.summary()"
   ]
  },
  {
   "cell_type": "markdown",
   "id": "ff0c1e88",
   "metadata": {},
   "source": [
    "### Setup MLFlow autologging"
   ]
  },
  {
   "cell_type": "code",
   "execution_count": null,
   "id": "5fa9851b",
   "metadata": {
    "ExecuteTime": {
     "end_time": "2024-11-19T16:55:15.948376Z",
     "start_time": "2024-11-19T16:55:15.558154Z"
    },
    "execution": {
     "iopub.execute_input": "2024-11-20T10:16:43.846064Z",
     "iopub.status.busy": "2024-11-20T10:16:43.845602Z",
     "iopub.status.idle": "2024-11-20T10:16:44.427760Z",
     "shell.execute_reply": "2024-11-20T10:16:44.427296Z",
     "shell.execute_reply.started": "2024-11-20T10:16:43.846025Z"
    }
   },
   "outputs": [],
   "source": [
    "import mlflow\n",
    "\n",
    "# connect the experiment to the tracking server\n",
    "mlflow.set_tracking_uri(\"http://localhost:5000\")\n",
    "\n",
    "# set the experiment name\n",
    "mlflow.set_experiment(\"mlflow-tf-keras-mnist\")\n",
    "\n",
    "# enable autologging\n",
    "mlflow.tensorflow.autolog()\n",
    "mlflow.autolog()"
   ]
  },
  {
   "cell_type": "markdown",
   "id": "1b2827a1",
   "metadata": {},
   "source": [
    "### Train the model for a few epochs"
   ]
  },
  {
   "cell_type": "code",
   "execution_count": null,
   "id": "f7b24088",
   "metadata": {
    "ExecuteTime": {
     "end_time": "2024-11-19T16:56:15.160223Z",
     "start_time": "2024-11-19T16:55:31.535544Z"
    },
    "execution": {
     "iopub.execute_input": "2024-11-20T10:17:45.554686Z",
     "iopub.status.busy": "2024-11-20T10:17:45.554453Z",
     "iopub.status.idle": "2024-11-20T10:18:12.390341Z",
     "shell.execute_reply": "2024-11-20T10:18:12.389952Z",
     "shell.execute_reply.started": "2024-11-20T10:17:45.554664Z"
    }
   },
   "outputs": [],
   "source": [
    "model.fit(x=train_ds, epochs=10)"
   ]
  },
  {
   "cell_type": "markdown",
   "id": "ab18662b",
   "metadata": {},
   "source": [
    "### Let’s evaluate the training result."
   ]
  },
  {
   "cell_type": "code",
   "execution_count": null,
   "id": "03b0d607",
   "metadata": {
    "ExecuteTime": {
     "end_time": "2024-11-19T16:56:47.590269Z",
     "start_time": "2024-11-19T16:56:47.109715Z"
    },
    "execution": {
     "iopub.execute_input": "2024-11-20T10:28:52.112300Z",
     "iopub.status.busy": "2024-11-20T10:28:52.111945Z",
     "iopub.status.idle": "2024-11-20T10:28:53.215163Z",
     "shell.execute_reply": "2024-11-20T10:28:53.214703Z",
     "shell.execute_reply.started": "2024-11-20T10:28:52.112263Z"
    }
   },
   "outputs": [],
   "source": [
    "score = model.evaluate(test_ds)\n",
    "\n",
    "print(f\"Test loss: {score[0]:.4f}\")\n",
    "print(f\"Test accuracy: {score[1]: .2f}\")"
   ]
  },
  {
   "cell_type": "markdown",
   "id": "08698952",
   "metadata": {},
   "source": [
    "### Log with MLflow Callback"
   ]
  },
  {
   "cell_type": "code",
   "execution_count": null,
   "id": "5530cb70",
   "metadata": {
    "ExecuteTime": {
     "end_time": "2024-11-19T16:59:09.287026Z",
     "start_time": "2024-11-19T16:57:50.388330Z"
    },
    "execution": {
     "iopub.execute_input": "2024-11-20T10:32:54.985531Z",
     "iopub.status.busy": "2024-11-20T10:32:54.985298Z",
     "iopub.status.idle": "2024-11-20T10:33:12.372222Z",
     "shell.execute_reply": "2024-11-20T10:33:12.371632Z",
     "shell.execute_reply.started": "2024-11-20T10:32:54.985510Z"
    }
   },
   "outputs": [],
   "source": [
    "from mlflow.tensorflow import MLflowCallback\n",
    "\n",
    "# Turn off autologging.\n",
    "mlflow.tensorflow.autolog(disable=True)\n",
    "\n",
    "with mlflow.start_run(run_name='bisleri') as run:\n",
    "    model.fit(\n",
    "        x=train_ds,\n",
    "        epochs=10,\n",
    "        callbacks=[MLflowCallback(run)],\n",
    "    )"
   ]
  },
  {
   "cell_type": "markdown",
   "id": "a5b96109",
   "metadata": {},
   "source": [
    "### Customize the MLflow Callback"
   ]
  },
  {
   "cell_type": "code",
   "execution_count": null,
   "id": "07c0174f",
   "metadata": {
    "ExecuteTime": {
     "end_time": "2024-11-19T17:05:57.626026Z",
     "start_time": "2024-11-19T17:05:57.621807Z"
    },
    "execution": {
     "iopub.execute_input": "2024-11-20T10:35:48.806146Z",
     "iopub.status.busy": "2024-11-20T10:35:48.805898Z",
     "iopub.status.idle": "2024-11-20T10:35:48.809618Z",
     "shell.execute_reply": "2024-11-20T10:35:48.809190Z",
     "shell.execute_reply.started": "2024-11-20T10:35:48.806125Z"
    }
   },
   "outputs": [],
   "source": [
    "# If you want to add extra logging logic, you can customize the MLflow callback. \n",
    "# You can either subclass from keras.callbacks.Callback and write everything from scratch or \n",
    "# subclass from mlflow.tensorflow.MLflowCallback to add you custom logging logic.\n",
    "\n",
    "import math\n",
    "from mlflow import log_metrics\n",
    "\n",
    "# Create our own callback by subclassing `MLflowCallback`.\n",
    "class MLflowCustomCallback(MLflowCallback):\n",
    "    def on_epoch_end(self, epoch, logs=None):\n",
    "        if not self.log_every_epoch:\n",
    "            return\n",
    "        loss = logs[\"loss\"]\n",
    "        logs[\"log_loss\"] = math.log(loss)\n",
    "        del logs[\"loss\"]\n",
    "        log_metrics(logs, epoch)\n",
    "        #self.metrics_logger.record_metrics(logs, epoch)"
   ]
  },
  {
   "cell_type": "code",
   "execution_count": null,
   "id": "6f7d7028",
   "metadata": {
    "ExecuteTime": {
     "end_time": "2024-11-19T17:06:37.410065Z",
     "start_time": "2024-11-19T17:05:58.629985Z"
    },
    "execution": {
     "iopub.execute_input": "2024-11-20T10:35:55.775933Z",
     "iopub.status.busy": "2024-11-20T10:35:55.775578Z",
     "iopub.status.idle": "2024-11-20T10:36:03.766306Z",
     "shell.execute_reply": "2024-11-20T10:36:03.766068Z",
     "shell.execute_reply.started": "2024-11-20T10:35:55.775896Z"
    }
   },
   "outputs": [],
   "source": [
    "# Train the model with the new callback.\n",
    "\n",
    "with mlflow.start_run() as run:\n",
    "    run_id = run.info.run_id\n",
    "    model.fit(\n",
    "        x=train_ds,\n",
    "        epochs=5,\n",
    "        callbacks=[MLflowCustomCallback(run)],\n",
    "    )"
   ]
  },
  {
   "cell_type": "code",
   "execution_count": null,
   "id": "02aed42c",
   "metadata": {},
   "outputs": [],
   "source": []
  }
 ],
 "metadata": {
  "kernelspec": {
   "display_name": "mlops",
   "language": "python",
   "name": "mlops"
  },
  "language_info": {
   "codemirror_mode": {
    "name": "ipython",
    "version": 3
   },
   "file_extension": ".py",
   "mimetype": "text/x-python",
   "name": "python",
   "nbconvert_exporter": "python",
   "pygments_lexer": "ipython3",
   "version": "3.12.3"
  }
 },
 "nbformat": 4,
 "nbformat_minor": 5
}
