{
 "cells": [
  {
   "cell_type": "code",
   "execution_count": null,
   "id": "d09adbf5",
   "metadata": {
    "ExecuteTime": {
     "end_time": "2024-02-29T12:30:44.928834Z",
     "start_time": "2024-02-29T12:30:44.921131Z"
    },
    "execution": {
     "iopub.execute_input": "2024-11-20T09:54:22.621303Z",
     "iopub.status.busy": "2024-11-20T09:54:22.621030Z",
     "iopub.status.idle": "2024-11-20T09:54:24.046113Z",
     "shell.execute_reply": "2024-11-20T09:54:24.045594Z",
     "shell.execute_reply.started": "2024-11-20T09:54:22.621272Z"
    }
   },
   "outputs": [],
   "source": [
    "import mlflow\n",
    "\n",
    "from sklearn.model_selection import train_test_split\n",
    "from sklearn.datasets import load_diabetes\n",
    "from sklearn.ensemble import RandomForestRegressor"
   ]
  },
  {
   "cell_type": "code",
   "execution_count": null,
   "id": "8f6c0135",
   "metadata": {
    "ExecuteTime": {
     "end_time": "2024-02-29T12:30:47.082778Z",
     "start_time": "2024-02-29T12:30:47.077354Z"
    },
    "execution": {
     "iopub.execute_input": "2024-11-20T09:59:08.630574Z",
     "iopub.status.busy": "2024-11-20T09:59:08.630208Z",
     "iopub.status.idle": "2024-11-20T09:59:08.633885Z",
     "shell.execute_reply": "2024-11-20T09:59:08.633198Z",
     "shell.execute_reply.started": "2024-11-20T09:59:08.630549Z"
    }
   },
   "outputs": [],
   "source": [
    "# Use the fluent API to set the tracking uri and the active experiment\n",
    "mlflow.set_tracking_uri(\"http://127.0.0.1:5000\")"
   ]
  },
  {
   "cell_type": "code",
   "execution_count": null,
   "id": "bdf80608",
   "metadata": {
    "ExecuteTime": {
     "end_time": "2024-02-29T12:30:48.596825Z",
     "start_time": "2024-02-29T12:30:48.426956Z"
    },
    "execution": {
     "iopub.execute_input": "2024-11-20T09:59:32.384957Z",
     "iopub.status.busy": "2024-11-20T09:59:32.384594Z",
     "iopub.status.idle": "2024-11-20T09:59:32.434160Z",
     "shell.execute_reply": "2024-11-20T09:59:32.433412Z",
     "shell.execute_reply.started": "2024-11-20T09:59:32.384922Z"
    }
   },
   "outputs": [],
   "source": [
    "mlflow.set_experiment(\"autologging_demo\")"
   ]
  },
  {
   "cell_type": "code",
   "execution_count": null,
   "id": "ddda3da9",
   "metadata": {
    "ExecuteTime": {
     "end_time": "2024-02-29T12:30:50.694358Z",
     "start_time": "2024-02-29T12:30:50.245118Z"
    },
    "execution": {
     "iopub.execute_input": "2024-11-20T10:00:32.917234Z",
     "iopub.status.busy": "2024-11-20T10:00:32.916843Z",
     "iopub.status.idle": "2024-11-20T10:00:33.210435Z",
     "shell.execute_reply": "2024-11-20T10:00:33.210040Z",
     "shell.execute_reply.started": "2024-11-20T10:00:32.917200Z"
    }
   },
   "outputs": [],
   "source": [
    "mlflow.autolog()"
   ]
  },
  {
   "cell_type": "code",
   "execution_count": null,
   "id": "f28dc076",
   "metadata": {
    "ExecuteTime": {
     "end_time": "2024-02-29T12:30:55.587606Z",
     "start_time": "2024-02-29T12:30:55.570146Z"
    },
    "execution": {
     "iopub.execute_input": "2024-11-20T10:01:06.358073Z",
     "iopub.status.busy": "2024-11-20T10:01:06.357502Z",
     "iopub.status.idle": "2024-11-20T10:01:06.371054Z",
     "shell.execute_reply": "2024-11-20T10:01:06.370056Z",
     "shell.execute_reply.started": "2024-11-20T10:01:06.358022Z"
    }
   },
   "outputs": [],
   "source": [
    "db = load_diabetes()\n",
    "X_train, X_test, y_train, y_test = train_test_split(db.data, db.target)"
   ]
  },
  {
   "cell_type": "code",
   "execution_count": null,
   "id": "79d8eb8f",
   "metadata": {
    "ExecuteTime": {
     "end_time": "2024-02-29T12:31:02.834888Z",
     "start_time": "2024-02-29T12:30:58.663599Z"
    },
    "execution": {
     "iopub.execute_input": "2024-11-20T10:01:08.631024Z",
     "iopub.status.busy": "2024-11-20T10:01:08.630660Z",
     "iopub.status.idle": "2024-11-20T10:01:10.707833Z",
     "shell.execute_reply": "2024-11-20T10:01:10.707575Z",
     "shell.execute_reply.started": "2024-11-20T10:01:08.630977Z"
    }
   },
   "outputs": [],
   "source": [
    "rf = RandomForestRegressor(n_estimators=100, max_depth=10, max_features=5)\n",
    "# MLflow triggers logging automatically upon model fitting\n",
    "rf.fit(X_train, y_train)"
   ]
  },
  {
   "cell_type": "code",
   "execution_count": null,
   "id": "d1188e68",
   "metadata": {},
   "outputs": [],
   "source": []
  }
 ],
 "metadata": {
  "kernelspec": {
   "display_name": "mlops",
   "language": "python",
   "name": "mlops"
  },
  "language_info": {
   "codemirror_mode": {
    "name": "ipython",
    "version": 3
   },
   "file_extension": ".py",
   "mimetype": "text/x-python",
   "name": "python",
   "nbconvert_exporter": "python",
   "pygments_lexer": "ipython3",
   "version": "3.12.3"
  },
  "varInspector": {
   "cols": {
    "lenName": 16,
    "lenType": 16,
    "lenVar": 40
   },
   "kernels_config": {
    "python": {
     "delete_cmd_postfix": "",
     "delete_cmd_prefix": "del ",
     "library": "var_list.py",
     "varRefreshCmd": "print(var_dic_list())"
    },
    "r": {
     "delete_cmd_postfix": ") ",
     "delete_cmd_prefix": "rm(",
     "library": "var_list.r",
     "varRefreshCmd": "cat(var_dic_list()) "
    }
   },
   "types_to_exclude": [
    "module",
    "function",
    "builtin_function_or_method",
    "instance",
    "_Feature"
   ],
   "window_display": false
  }
 },
 "nbformat": 4,
 "nbformat_minor": 5
}
